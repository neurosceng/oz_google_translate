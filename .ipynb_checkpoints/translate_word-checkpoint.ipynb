{
 "cells": [
  {
   "cell_type": "code",
   "execution_count": 1,
   "id": "d800ddbe-1a77-458c-9bd6-27a72480260d",
   "metadata": {},
   "outputs": [],
   "source": [
    "import argparse\n",
    "import requests\n",
    "import pprint\n",
    "from tqdm import tqdm\n",
    "from docx import Document #無ければ conda install -c conda-forge docx-python"
   ]
  },
  {
   "cell_type": "code",
   "execution_count": 2,
   "id": "8ec0906f-169c-4f7f-8fe6-f3ac376cad27",
   "metadata": {},
   "outputs": [],
   "source": [
    "#各パラメーター\n",
    "path_r = \"./sample_text.txt\"#読み込み用のpath\n",
    "path_w = \"./sample_word.docx\"#書き込み用のpath"
   ]
  },
  {
   "cell_type": "code",
   "execution_count": 3,
   "id": "5c11c9aa-c638-4dbe-8de6-8819c46dbc74",
   "metadata": {},
   "outputs": [],
   "source": [
    "def read_text(path_r):\n",
    "    #txtファイル読み込み\n",
    "    with open(path_r,encoding=\"utf-8\") as f:\n",
    "        text_list = f.readlines()\n",
    "    return text_list"
   ]
  },
  {
   "cell_type": "code",
   "execution_count": 4,
   "id": "e2893d25-f625-471e-a7ae-fabda1411088",
   "metadata": {},
   "outputs": [],
   "source": [
    "def translate(text_list):\n",
    "    #与えられた英語listを日本語listに翻訳して返す\n",
    "    api_url = \"https://script.google.com/macros/s/AKfycbxJNBgTQoFHJAlvRn2Rvw3RE2n85rgsbWUc_sn6wlAok_pznvlT/exec\"\n",
    "    \n",
    "    translated_list = []\n",
    "    for i in tqdm(range(len(text_list))):\n",
    "        text = text_list[i]\n",
    "        params = {\n",
    "            'text': \"\\\"\" + text + \"\\\"\",\n",
    "            'source': 'en',\n",
    "            'target': 'ja'\n",
    "        }\n",
    "        r_post = requests.post(api_url, data=params)\n",
    "        translated_list.append(r_post.json()[\"text\"].strip('\"「」'))\n",
    "    \n",
    "    return translated_list"
   ]
  },
  {
   "cell_type": "code",
   "execution_count": 5,
   "id": "e56d2149-cc21-4594-a696-f991789b642e",
   "metadata": {},
   "outputs": [],
   "source": [
    "def word_write(text_list,path_w):\n",
    "    #文章のlistをwordに書き込み、保存\n",
    "    #レイアウトは使ってみて調整、段落毎に離れている気がするが図の保存にはちょうどいい?\n",
    "    document = Document()\n",
    "    for i,line in enumerate(text_list):\n",
    "        document.add_paragraph(line)\n",
    "    document.save(path_w)"
   ]
  },
  {
   "cell_type": "code",
   "execution_count": 6,
   "id": "f29a6e40-c183-4a89-bc28-348aa8e10953",
   "metadata": {},
   "outputs": [],
   "source": [
    "def main():\n",
    "    text_list = read_text(path_r)\n",
    "    translated_list = translate(text_list)\n",
    "    word_write(translated_list,path_w)"
   ]
  },
  {
   "cell_type": "code",
   "execution_count": 7,
   "id": "5d4adafb-3105-4e33-a5e8-d38cd4661401",
   "metadata": {},
   "outputs": [
    {
     "name": "stderr",
     "output_type": "stream",
     "text": [
      "100%|██████████| 11/11 [00:10<00:00,  1.04it/s]\n"
     ]
    }
   ],
   "source": [
    "if __name__ == \"__main__\":\n",
    "    main()"
   ]
  },
  {
   "cell_type": "code",
   "execution_count": null,
   "id": "86afa320-9567-4bce-9a0e-6e006ba943f4",
   "metadata": {},
   "outputs": [],
   "source": []
  },
  {
   "cell_type": "code",
   "execution_count": null,
   "id": "0504b285-e90c-4699-bb98-8ca20d92df7a",
   "metadata": {},
   "outputs": [],
   "source": []
  }
 ],
 "metadata": {
  "kernelspec": {
   "display_name": "Python 3 (ipykernel)",
   "language": "python",
   "name": "python3"
  },
  "language_info": {
   "codemirror_mode": {
    "name": "ipython",
    "version": 3
   },
   "file_extension": ".py",
   "mimetype": "text/x-python",
   "name": "python",
   "nbconvert_exporter": "python",
   "pygments_lexer": "ipython3",
   "version": "3.8.12"
  }
 },
 "nbformat": 4,
 "nbformat_minor": 5
}
